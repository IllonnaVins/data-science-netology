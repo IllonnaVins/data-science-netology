{
 "cells": [
  {
   "cell_type": "markdown",
   "metadata": {},
   "source": [
    "# Домашнее задание к лекции \"Регулярные выражения\""
   ]
  },
  {
   "cell_type": "markdown",
   "metadata": {},
   "source": [
    "## Задание 1"
   ]
  },
  {
   "cell_type": "code",
   "execution_count": null,
   "metadata": {},
   "outputs": [],
   "source": [
    "car_id = 'АВ222С96'\n",
    "# car_id = 'АБ22ВВ193'\n",
    "# car_id = 'АН000С53'\n",
    "\n",
    "import re\n",
    "\n",
    "def valid_auto_number(num):\n",
    "    \n",
    "    chars = r'[АВЕКМ-ОР-УХ]'    \n",
    "    res = re.match(rf'{chars}{{2}}\\d{{3}}{chars}(\\d{{2}})', num)\n",
    "    \n",
    "    if res:\n",
    "        print(f'Номер {res.group()} валиден. Регион: {res.group(1)}')\n",
    "    else:\n",
    "        print(f'Номер не валиден')    \n",
    "    \n",
    "    \n",
    "valid_auto_number(car_id)"
   ]
  },
  {
   "cell_type": "markdown",
   "metadata": {},
   "source": [
    "## Задание 2"
   ]
  },
  {
   "cell_type": "code",
   "execution_count": null,
   "metadata": {},
   "outputs": [],
   "source": [
    "import re\n",
    "\n",
    "string = 'Напишите функцию функцию, которая будет будет будет будет удалять все все все все последовательные повторы слов из из из из заданной строки строки при помощи регулярных выражений'\n",
    "\n",
    "def del_duplicates(string):\n",
    "    return re.sub(r'(\\w+)(\\s\\1)+', r'\\1', string)\n",
    "\n",
    "\n",
    "del_duplicates(string)"
   ]
  },
  {
   "cell_type": "markdown",
   "metadata": {},
   "source": [
    "## Задание 3"
   ]
  },
  {
   "cell_type": "code",
   "execution_count": null,
   "metadata": {},
   "outputs": [],
   "source": [
    "import re\n",
    "\n",
    "some_words = 'Информационные технологии'\n",
    "some_words2 = 'Near Field Communication'\n",
    "\n",
    "def get_acronym(string):\n",
    "    acronum = ''\n",
    "    res = re.findall(r'(?<!\\S)(\\w)', string)       \n",
    "    \n",
    "    if res:\n",
    "        for char in res:\n",
    "            acronum += char\n",
    "            \n",
    "        print(acronum.upper())\n",
    "        \n",
    "\n",
    "get_acronym(some_words2)"
   ]
  },
  {
   "cell_type": "markdown",
   "metadata": {},
   "source": [
    "## Задание 4"
   ]
  },
  {
   "cell_type": "code",
   "execution_count": null,
   "metadata": {},
   "outputs": [],
   "source": [
    "import re\n",
    "\n",
    "emails = ['test@gmail.com', 'xyz@test.in', 'test@ya.ru', 'xyz@mail.ru', 'xyz@ya.ru', 'xyz@gmail.com']\n",
    "\n",
    "def get_domen_distribution(emails):\n",
    "    distribution = {}\n",
    "    \n",
    "    for email in emails:\n",
    "        res = re.match(r'(\\w+)@(\\w+\\.\\w+)', email).group(2)\n",
    "\n",
    "        if res in distribution:\n",
    "            distribution[res] += 1\n",
    "        else:\n",
    "            distribution[res] = 1\n",
    "        \n",
    "    for domen, num in distribution.items():\n",
    "        print(f'{domen}: {num}')\n",
    "\n",
    "\n",
    "get_domen_distribution(emails)"
   ]
  },
  {
   "cell_type": "markdown",
   "metadata": {},
   "source": [
    "## Задание 5"
   ]
  },
  {
   "cell_type": "code",
   "execution_count": null,
   "metadata": {},
   "outputs": [],
   "source": [
    "import re\n",
    "\n",
    "some_text = 'Эталонной реализацией Python является интерпретатор CPython, поддерживающий большинство активно используемых платформ. Он распространяется под свободной лицензией Python Software Foundation License, позволяющей использовать его без ограничений в любых приложениях, включая проприетарные.'\n",
    "\n",
    "def get_letters_number(text):\n",
    "    \n",
    "    vowels = re.findall(r'(?<!\\S)([aeiouyаеёиоуыэюя])', some_text, flags=re.I)\n",
    "    consonants = re.findall(r'(?<!\\S)([bcdfghjklmnpqrstvwxzбвгджзйклмнпрстфхцчшщ])', some_text, flags=re.I)\n",
    "\n",
    "    if vowels:\n",
    "        print(f'Слов на гласные буквы: {len(vowels)}')\n",
    "    \n",
    "    if consonants:\n",
    "        print(f'Слов на согласные буквы: {len(consonants)}')\n",
    "        \n",
    "        \n",
    "    \n",
    "get_letters_number(some_text)"
   ]
  },
  {
   "cell_type": "markdown",
   "metadata": {},
   "source": [
    "## Задание 6"
   ]
  },
  {
   "cell_type": "code",
   "execution_count": null,
   "metadata": {},
   "outputs": [],
   "source": [
    "import re\n",
    "\n",
    "phone = '+7 955 555-55-55'\n",
    "# phone = '8(955)555-55-55'\n",
    "# phone = '+7 955 555 55 55'\n",
    "# phone = '7(955) 555-55-55'\n",
    "# phone = '7 (955) 555-55-55'\n",
    "# phone = '7(955) 555 55 55'\n",
    "# phone = '7 ( 955 ) 555 55 55'\n",
    "\n",
    "# phone = '423-555-55-5555'\n",
    "# phone = '123-456-789'\n",
    "# phone = '++7(955) 555-55-55'\n",
    "# phone = '5(955) 555-55-55'\n",
    "\n",
    "    \n",
    "\n",
    "def valid_phone(phone):\n",
    "    res = re.findall(r'(^[\\+\\s]?)(\\s?)([78])(\\s?)([\\(\\s-]?)(\\(?)(\\d{3})([\\)\\s-]?)(\\s?)(\\d{3})([\\s-]?)(\\d{2})([\\s-]?)(\\d{2}$)', phone)\n",
    "    \n",
    "    if res:\n",
    "        return f'+7-{res[0][6]}-{res[0][9]}-{res[0][11]}-{res[0][13]}'\n",
    "    \n",
    "    print('Номер не валиден')\n",
    "    \n",
    "    \n",
    "valid_phone(phone)"
   ]
  }
 ],
 "metadata": {
  "kernelspec": {
   "display_name": "Python 3",
   "language": "python",
   "name": "python3"
  },
  "language_info": {
   "codemirror_mode": {
    "name": "ipython",
    "version": 3
   },
   "file_extension": ".py",
   "mimetype": "text/x-python",
   "name": "python",
   "nbconvert_exporter": "python",
   "pygments_lexer": "ipython3",
   "version": "3.7.4"
  }
 },
 "nbformat": 4,
 "nbformat_minor": 2
}
