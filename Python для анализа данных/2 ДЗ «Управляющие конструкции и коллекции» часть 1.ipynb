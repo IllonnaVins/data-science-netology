{
 "cells": [
  {
   "cell_type": "markdown",
   "metadata": {},
   "source": [
    "### Домашнее задание к лекции \"Введение в типы данных и циклы. Часть 1\""
   ]
  },
  {
   "cell_type": "markdown",
   "metadata": {},
   "source": [
    "#### Задание 1"
   ]
  },
  {
   "cell_type": "code",
   "execution_count": null,
   "metadata": {},
   "outputs": [],
   "source": [
    "word = 'testing'\n",
    "\n",
    "def get_middle_string(str):\n",
    "    len_str = len(str)\n",
    "    \n",
    "    if len_str % 2 == 0:\n",
    "        print(str[int(len_str / 2 - 1)] + str[int(len_str / 2)])\n",
    "    else:\n",
    "        print(str[int((len_str / 2))])\n",
    "        \n",
    "get_middle_string(word)"
   ]
  },
  {
   "cell_type": "markdown",
   "metadata": {},
   "source": [
    "#### Задание 2"
   ]
  },
  {
   "cell_type": "code",
   "execution_count": null,
   "metadata": {},
   "outputs": [],
   "source": [
    "def get_sum(acc = 0):\n",
    "    print('Введите число: ')\n",
    "    num = input()   \n",
    "    \n",
    "    if num == '0':\n",
    "        print('Результат: ' + str(acc))\n",
    "        return\n",
    "    else:\n",
    "        acc = acc + float(num)\n",
    "        get_sum(acc)    \n",
    "        \n",
    "get_sum()"
   ]
  },
  {
   "cell_type": "markdown",
   "metadata": {},
   "source": [
    "#### Задание 3"
   ]
  },
  {
   "cell_type": "code",
   "execution_count": null,
   "metadata": {},
   "outputs": [],
   "source": [
    "boys = ['Peter', 'Alex', 'John', 'Arthur', 'Richard']\n",
    "girls = ['Kate', 'Liza', 'Kira', 'Emma', 'Trisha']\n",
    "\n",
    "def perfect_couples(boys, girls):\n",
    "    \n",
    "    if len(boys) != len(girls):\n",
    "        print('Внимание, кто-то может остаться без пары!')\n",
    "        return\n",
    "    \n",
    "    \n",
    "    result_list = list(zip(sorted(boys), sorted(girls)))\n",
    "    \n",
    "    print('Идеальные пары:')\n",
    "    for couple in result_list:        \n",
    "        print(couple[0] + ' и ' + couple[1])\n",
    "        \n",
    "perfect_couples(boys, girls)    "
   ]
  },
  {
   "cell_type": "markdown",
   "metadata": {},
   "source": [
    "#### Задание 4"
   ]
  },
  {
   "cell_type": "code",
   "execution_count": null,
   "metadata": {},
   "outputs": [],
   "source": [
    "countries_temperature = [\n",
    "    ['Thailand', [75.2, 77, 78.8, 73.4, 68, 75.2, 77]],\n",
    "    ['Germany', [57.2, 55.4, 59, 59, 53.6]],\n",
    "    ['Russia', [35.6, 37.4, 39.2, 41, 42.8, 39.2, 35.6]],\n",
    "    ['Poland', [50, 50, 53.6, 57.2, 55.4, 55.4]]\n",
    "]\n",
    "\n",
    "def average_temperature(countries_list):\n",
    "    result = {}\n",
    "    \n",
    "    for country in countries_list:\n",
    "        sum = 0\n",
    "        \n",
    "        for t in country[1]:\n",
    "            sum = sum + t  \n",
    "            \n",
    "        print(f'{country[0]}  -  {str(round((sum / len(country[1])  - 32) / 1.8, 1))} С')        \n",
    "        \n",
    "average_temperature(countries_temperature)        "
   ]
  },
  {
   "cell_type": "markdown",
   "metadata": {},
   "source": [
    "#### Задание 5"
   ]
  },
  {
   "cell_type": "code",
   "execution_count": null,
   "metadata": {},
   "outputs": [],
   "source": [
    "stream = [\n",
    "    '2018-01-01,user1,3',\n",
    "    '2018-01-07,user1,4',\n",
    "    '2018-03-29,user1,1',\n",
    "    '2018-04-04,user1,13',\n",
    "    '2018-01-05,user2,7',\n",
    "    '2018-06-14,user3,4',\n",
    "    '2018-07-02,user3,10',\n",
    "    '2018-03-21,user4,19',\n",
    "    '2018-03-22,user4,4',\n",
    "    '2018-04-22,user4,8',\n",
    "    '2018-05-03,user4,9',\n",
    "    '2018-05-11,user4,11',\n",
    "]\n",
    "\n",
    "def average_stream_time(logs):\n",
    "    users = set()\n",
    "    sum = 0\n",
    "    \n",
    "    for log in logs:\n",
    "        log_list = log.split(',')        \n",
    "        users.add(log_list[1])\n",
    "        sum += int(log_list[2])\n",
    "            \n",
    "    print('Среднее количество просмотров на уникального пользователя: ' + str(round(sum / len(users), 2)))     \n",
    "    \n",
    "average_stream_time(stream)        "
   ]
  },
  {
   "cell_type": "markdown",
   "metadata": {},
   "source": [
    "#### Задание 6"
   ]
  },
  {
   "cell_type": "code",
   "execution_count": null,
   "metadata": {},
   "outputs": [],
   "source": [
    "def repeat_number():\n",
    "    print('Введите числа:')\n",
    "    numbers = input()\n",
    "    result = set()\n",
    "    \n",
    "    numbers_array = sorted(numbers.split(' '))\n",
    "    \n",
    "    i = 0\n",
    "    for n in numbers_array:         \n",
    "        if i != 0 and n == numbers_array[i - 1]:\n",
    "            result.add(n)\n",
    "            \n",
    "        i += 1\n",
    "    \n",
    "    print(' '.join(sorted(result)))\n",
    "    \n",
    "repeat_number()"
   ]
  }
 ],
 "metadata": {
  "kernelspec": {
   "display_name": "Python 3",
   "language": "python",
   "name": "python3"
  },
  "language_info": {
   "codemirror_mode": {
    "name": "ipython",
    "version": 3
   },
   "file_extension": ".py",
   "mimetype": "text/x-python",
   "name": "python",
   "nbconvert_exporter": "python",
   "pygments_lexer": "ipython3",
   "version": "3.7.4"
  }
 },
 "nbformat": 4,
 "nbformat_minor": 2
}
