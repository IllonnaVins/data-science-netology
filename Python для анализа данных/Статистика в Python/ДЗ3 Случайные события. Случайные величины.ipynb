{
 "cells": [
  {
   "cell_type": "markdown",
   "metadata": {},
   "source": [
    "# Домашнее задание к лекции «Случайные события. Случайные величины»"
   ]
  },
  {
   "cell_type": "markdown",
   "metadata": {},
   "source": [
    "Смоделировать игру против лотерейного автомата типа “777”. Игрок платит 1 руб., после чего выпадает случайное целое число, равномерно распределенное от 0 до 999. При некоторых значениях числа игрок получает выигрыш (см. справа)\n",
    "\n",
    "Выгодна ли игра игроку?\n",
    "\n",
    "Сколько в среднем приобретает или теряет игрок за одну игру?\n",
    "\n",
    "    - 777: 200 руб.\n",
    "    - 999: 100 руб.\n",
    "    - 555: 50 руб.\n",
    "    - 333: 15 руб.\n",
    "    - 111: 10 руб.\n",
    "    - *77: 5 руб.\n",
    "    - **7: 3 руб.\n",
    "    - *00: 2 руб.\n",
    "    - **0: 1 руб.\n",
    "\n",
    "– любая цифра\n",
    "\n",
    "Дополнительное задание повышенной сложности. Теоретически рассчитать средний выигрыш (проигрыш) и сравнить с результатами моделирования"
   ]
  },
  {
   "cell_type": "code",
   "execution_count": 2,
   "metadata": {},
   "outputs": [],
   "source": [
    "import numpy as np"
   ]
  },
  {
   "cell_type": "code",
   "execution_count": 31,
   "metadata": {},
   "outputs": [
    {
     "name": "stdout",
     "output_type": "stream",
     "text": [
      "-0.206834\n"
     ]
    }
   ],
   "source": [
    "trials = 1000000    # Количество попыток\n",
    "money = 0    # Выигрыш\n",
    "\n",
    "random_score = np.random.randint(0, 1000, size=trials)\n",
    "\n",
    "map_money = { 777: 200, 999: 100, 555: 50, 333: 15, 111: 10 }\n",
    "\n",
    "\n",
    "for score in random_score:\n",
    "    money = money - 1\n",
    "    \n",
    "    if score in map_money:\n",
    "        money = money + map_money[score]\n",
    "        continue\n",
    "        \n",
    "    if score % 100 == 77:\n",
    "        money = money + 5\n",
    "        continue\n",
    "        \n",
    "    if score % 10 == 7:\n",
    "        money = money + 3\n",
    "        continue\n",
    "        \n",
    "    if  score % 100 == 0:\n",
    "        money = money + 2\n",
    "        continue\n",
    "        \n",
    "    if score % 10 == 0:\n",
    "        money = money + 1\n",
    "        \n",
    "print(money / trials)\n"
   ]
  },
  {
   "cell_type": "markdown",
   "metadata": {},
   "source": [
    "Вывод: В среднем игрок теряет 20 копеек за игру. Игра не выгодна игроку."
   ]
  },
  {
   "cell_type": "code",
   "execution_count": 32,
   "metadata": {},
   "outputs": [
    {
     "name": "stdout",
     "output_type": "stream",
     "text": [
      "-0.20199999999999993\n"
     ]
    }
   ],
   "source": [
    "# Вероятность выпадения одного числа 0.001\n",
    "v = 0.001\n",
    "\n",
    "# Вероятность того, что игрок потеряет 1 рубль равна 1 (100%), поэтому -1*1\n",
    "# Для каждого исхода, когда игрок получит деньги, вычисляю вероятность и умножаю на выигрыш.\n",
    "res = -1*1 + 200*v + 100*v + 50*v + 15*v + 10*v + 5*0.009 + 3*0.09 + 2*0.009 + 1*0.09\n",
    "\n",
    "print(res)"
   ]
  },
  {
   "cell_type": "markdown",
   "metadata": {},
   "source": [
    "Вывод: На достаточно больших данных результаты моделирования очень близки к теоретическим. Чем больше данных, тем точнее.\n",
    "\n",
    "Вопрос: Я понимаю, что большое кол-во цифр после запятой связано с погрешностью при рассчётах для чисел с плавающей запятой.\n",
    "Бывают ли случаи, что это учитывается при интерпретации результата или просто округляем и всё? Как обычно в python работают с такой погрешностью? "
   ]
  }
 ],
 "metadata": {
  "kernelspec": {
   "display_name": "Python 3",
   "language": "python",
   "name": "python3"
  },
  "language_info": {
   "codemirror_mode": {
    "name": "ipython",
    "version": 3
   },
   "file_extension": ".py",
   "mimetype": "text/x-python",
   "name": "python",
   "nbconvert_exporter": "python",
   "pygments_lexer": "ipython3",
   "version": "3.7.4"
  }
 },
 "nbformat": 4,
 "nbformat_minor": 2
}
