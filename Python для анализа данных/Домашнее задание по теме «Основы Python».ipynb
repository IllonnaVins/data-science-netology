{
 "cells": [
  {
   "cell_type": "markdown",
   "metadata": {},
   "source": [
    "### Домашнее задание по теме «Основы Python»"
   ]
  },
  {
   "cell_type": "markdown",
   "metadata": {},
   "source": [
    "#### Задание 1"
   ]
  },
  {
   "cell_type": "code",
   "execution_count": null,
   "metadata": {},
   "outputs": [],
   "source": [
    "phrase_1 = 'Насколько проще было бы писать программы, если бы не заказчики'\n",
    "phrase_2 = '640Кб должно хватить для любых задач. Билл Гейтс (по легенде)'\n",
    "\n",
    "def compare(str_1, str_2):    \n",
    "    len_1 = len(str_1)\n",
    "    len_2 = len(str_2)\n",
    "\n",
    "    if len_1 == len_2:\n",
    "        print('Фразы равной длины')\n",
    "        return\n",
    "\n",
    "    if len_1 > len_2:\n",
    "        print('Фраза 1 длиннее фразы 2')\n",
    "    else:\n",
    "        print('Фраза 2 длиннее фразы 1')        \n",
    "\n",
    "compare(phrase_1, phrase_2)"
   ]
  },
  {
   "cell_type": "markdown",
   "metadata": {},
   "source": [
    "#### Задание 2"
   ]
  },
  {
   "cell_type": "code",
   "execution_count": null,
   "metadata": {},
   "outputs": [],
   "source": [
    "year = 2020\n",
    "\n",
    "def is_leap_year(year):\n",
    "#     if type(year) is not int:\n",
    "#         print('Некорректный год')\n",
    "#         return\n",
    "    \n",
    "    if year % 4 == 0:\n",
    "        print('Високосный год')\n",
    "    else :\n",
    "        print('Обычный год')\n",
    "        \n",
    "is_leap_year(year)"
   ]
  },
  {
   "cell_type": "markdown",
   "metadata": {},
   "source": [
    "#### Задание 3"
   ]
  },
  {
   "cell_type": "code",
   "execution_count": null,
   "metadata": {},
   "outputs": [],
   "source": [
    "zodiac_map = {\n",
    "    'январь': { 'first': 'Козерог', 'last': 'Водолей', 'boundary': 20 },\n",
    "    'февраль': { 'first': 'Водолей', 'last': 'Рыбы', 'boundary': 19 },\n",
    "    'март': { 'first': 'Рыбы', 'last': 'Овен', 'boundary': 20 },\n",
    "    'апрель': { 'first': 'Овен', 'last': 'Телец', 'boundary': 20 },\n",
    "    'май': { 'first': 'Телец', 'last': 'Близнецы', 'boundary': 21 },\n",
    "    'июнь': { 'first': 'Близнецы', 'last': 'Рак', 'boundary': 21 },\n",
    "    'июль': { 'first': 'Рак', 'last': 'Лев', 'boundary': 22 },\n",
    "    'август': { 'first': 'Лев', 'last': 'Дева', 'boundary': 21 },\n",
    "    'сентябрь': { 'first': 'Дева', 'last': 'Весы', 'boundary': 23 },\n",
    "    'октябрь': { 'first': 'Весы', 'last': 'Скорпион', 'boundary': 23 },\n",
    "    'ноябрь': { 'first': 'Скорпион', 'last': 'Стрелец', 'boundary': 22 },\n",
    "    'декабрь': { 'first': 'Стрелец', 'last': 'Козерог', 'boundary': 22 },\n",
    "\n",
    "}\n",
    "\n",
    "def get_zodiac():\n",
    "\n",
    "    print('Введите день:')\n",
    "    day = int(input())\n",
    "        \n",
    "    print('Введите месяц:')\n",
    "    month = input()\n",
    "    \n",
    "    month_map = zodiac_map[month.lower()]\n",
    "    is_first_half = day < month_map['boundary']\n",
    "    \n",
    "    print('Ваш знак зодиака: ' + month_map['first' if is_first_half else 'last'])\n",
    "    \n",
    "get_zodiac()    "
   ]
  },
  {
   "cell_type": "markdown",
   "metadata": {},
   "source": [
    "#### Задание 4\n"
   ]
  },
  {
   "cell_type": "code",
   "execution_count": null,
   "metadata": {},
   "outputs": [],
   "source": [
    "def get_box_size(width, height, length):\n",
    "    if length > 200:\n",
    "        print('Упаковка для лыж')\n",
    "        return\n",
    "    \n",
    "    if width < 15 and height < 15 and length < 15:\n",
    "        print('Коробка №1')\n",
    "        return\n",
    "    \n",
    "    if 15 < width < 50 or 15 < height < 50 or 15 < length < 50:\n",
    "        print('Коробка №2')\n",
    "        return\n",
    "    \n",
    "    print('Коробка №3')\n",
    "    \n",
    "get_box_size(10, 45, 200)    "
   ]
  },
  {
   "cell_type": "markdown",
   "metadata": {},
   "source": [
    "#### Задание 5"
   ]
  },
  {
   "cell_type": "code",
   "execution_count": null,
   "metadata": {},
   "outputs": [],
   "source": [
    "def is_happy_bilet(num):\n",
    "    \n",
    "    if len(str(num)) != 6:\n",
    "        print('Некорректный номер билета')\n",
    "        return\n",
    "        \n",
    "    if str(num)[0:3] == str(num)[-1:-4:-1]:\n",
    "        print('Счастливый билет')\n",
    "    else:\n",
    "        print('Счастливый билет')\n",
    "        \n",
    "is_happy_bilet(123321)"
   ]
  },
  {
   "cell_type": "markdown",
   "metadata": {},
   "source": [
    "#### Задание 6"
   ]
  },
  {
   "cell_type": "code",
   "execution_count": null,
   "metadata": {},
   "outputs": [],
   "source": [
    "def square():\n",
    "    \n",
    "    print('Введите тип фигуры:')\n",
    "    type = input()\n",
    "    \n",
    "    if type.lower() == 'круг':\n",
    "        print('Введите радиус круга:')\n",
    "        radius = float(input())\n",
    "        print('Площадь круга: ' + str(radius ** 2))\n",
    "        return\n",
    "    \n",
    "    print('Введите длину стороны A:')\n",
    "    a = float(input())\n",
    "    print('Введите длину стороны B:')\n",
    "    b = float(input())\n",
    "    \n",
    "    if type.lower() == 'прямоугольник':\n",
    "        print('Площадь прямоугольника: ' + str(a * b))\n",
    "    else:\n",
    "        print('Введите длину стороны C:')\n",
    "        c = float(input())\n",
    "        print('Площадь треугольника: ' + str((a + b + c) / 2))\n",
    "        \n",
    "square()"
   ]
  }
 ],
 "metadata": {
  "kernelspec": {
   "display_name": "Python 3",
   "language": "python",
   "name": "python3"
  },
  "language_info": {
   "codemirror_mode": {
    "name": "ipython",
    "version": 3
   },
   "file_extension": ".py",
   "mimetype": "text/x-python",
   "name": "python",
   "nbconvert_exporter": "python",
   "pygments_lexer": "ipython3",
   "version": "3.7.4"
  }
 },
 "nbformat": 4,
 "nbformat_minor": 2
}
