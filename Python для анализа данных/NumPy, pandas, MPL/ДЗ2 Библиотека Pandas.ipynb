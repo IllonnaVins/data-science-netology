{
 "cells": [
  {
   "cell_type": "markdown",
   "metadata": {},
   "source": [
    "# Домашнее задание к лекции \"Библиотека numpy. Вычислительные задачи\""
   ]
  },
  {
   "cell_type": "markdown",
   "metadata": {},
   "source": [
    "## Задание 1\n",
    "\n",
    "Скачайте с сайта https://grouplens.org/datasets/movielens/ датасет любого размера. Определите какому фильму было выставлено больше всего оценок 5.0."
   ]
  },
  {
   "cell_type": "code",
   "execution_count": 6,
   "metadata": {},
   "outputs": [
    {
     "data": {
      "text/html": [
       "<div>\n",
       "<style scoped>\n",
       "    .dataframe tbody tr th:only-of-type {\n",
       "        vertical-align: middle;\n",
       "    }\n",
       "\n",
       "    .dataframe tbody tr th {\n",
       "        vertical-align: top;\n",
       "    }\n",
       "\n",
       "    .dataframe thead th {\n",
       "        text-align: right;\n",
       "    }\n",
       "</style>\n",
       "<table border=\"1\" class=\"dataframe\">\n",
       "  <thead>\n",
       "    <tr style=\"text-align: right;\">\n",
       "      <th></th>\n",
       "      <th>movieId</th>\n",
       "      <th>userId</th>\n",
       "      <th>rating</th>\n",
       "      <th>timestamp</th>\n",
       "      <th>title</th>\n",
       "      <th>genres</th>\n",
       "    </tr>\n",
       "  </thead>\n",
       "  <tbody>\n",
       "    <tr>\n",
       "      <td>0</td>\n",
       "      <td>318</td>\n",
       "      <td>39553</td>\n",
       "      <td>39553</td>\n",
       "      <td>39553</td>\n",
       "      <td>Shawshank Redemption, The (1994)</td>\n",
       "      <td>Crime|Drama</td>\n",
       "    </tr>\n",
       "  </tbody>\n",
       "</table>\n",
       "</div>"
      ],
      "text/plain": [
       "   movieId  userId  rating  timestamp                             title  \\\n",
       "0      318   39553   39553      39553  Shawshank Redemption, The (1994)   \n",
       "\n",
       "        genres  \n",
       "0  Crime|Drama  "
      ]
     },
     "execution_count": 6,
     "metadata": {},
     "output_type": "execute_result"
    }
   ],
   "source": [
    "import pandas as pd\n",
    "\n",
    "ratings = pd.read_csv('ml-25m/ratings.csv')\n",
    "movies = pd.read_csv('ml-25m/movies.csv')\n",
    "\n",
    "format_ratings = ratings[ ratings['rating'] == 5 ].groupby('movieId').count().sort_values('rating', ascending=False)\n",
    "res = format_ratings.merge(movies, on='movieId', how='left')\n",
    "\n",
    "res.head(1)"
   ]
  },
  {
   "cell_type": "markdown",
   "metadata": {},
   "source": [
    "### Задание 2\n",
    "По данным файла power.csv посчитайте суммарное потребление стран Прибалтики (Латвия, Литва и Эстония) категорий 4, 12 и 21 за период с 2005 по 2010 года. Не учитывайте в расчетах отрицательные значения quantity."
   ]
  },
  {
   "cell_type": "code",
   "execution_count": 7,
   "metadata": {},
   "outputs": [
    {
     "data": {
      "text/plain": [
       "240580.0"
      ]
     },
     "execution_count": 7,
     "metadata": {},
     "output_type": "execute_result"
    }
   ],
   "source": [
    "contries = pd.read_csv('power.csv')\n",
    "\n",
    "filtered_contries = contries[ \n",
    "    contries.country.isin(['Latvia', 'Lithuania', 'Estonia']) & \n",
    "    contries.category.isin([4, 12, 21]) &     \n",
    "    (contries.quantity > 0) &\n",
    "    (contries.year > 2004) &\n",
    "    (contries.year < 2011)\n",
    "]\n",
    "\n",
    "\n",
    "filtered_contries.quantity.sum()"
   ]
  },
  {
   "cell_type": "markdown",
   "metadata": {},
   "source": [
    "### Задание 3\n",
    "Выберите страницу любого сайта с табличными данными. Импортируйте таблицы в pandas dataframe."
   ]
  },
  {
   "cell_type": "code",
   "execution_count": 8,
   "metadata": {},
   "outputs": [
    {
     "data": {
      "text/plain": [
       "[                 Арсенал                                                \\\n",
       "     Трансферы в (€26.3M) Трансферы в (€26.3M).1 Трансферы в (€26.3M).2   \n",
       " 0               21/09/20           R. Rúnarsson                  Dijon   \n",
       " 1               04/09/20          Dani Ceballos            Real Madrid   \n",
       " 2               01/09/20      Gabriel Magalhães                  Lille   \n",
       " 3               24/08/20               G. Lewis                   Fram   \n",
       " 4               14/08/20                Виллиан                Chelsea   \n",
       " ..                   ...                    ...                    ...   \n",
       " 701             15/01/20             A. Samuels          Kidderminster   \n",
       " 702             13/01/20               Rafa Mir                 Huesca   \n",
       " 703             10/01/20             P. Cutrone             Fiorentina   \n",
       " 704             07/01/20         Иван Кавальеро                 Fulham   \n",
       " 705             01/01/20                E. Watt               Carlisle   \n",
       " \n",
       "                             \n",
       "     Трансферы в (€26.3M).3  \n",
       " 0                      н/д  \n",
       " 1                   аренда  \n",
       " 2                  € 26.3M  \n",
       " 3                бесплатно  \n",
       " 4                бесплатно  \n",
       " ..                     ...  \n",
       " 701                 аренда  \n",
       " 702                 аренда  \n",
       " 703                 аренда  \n",
       " 704                € 17.7M  \n",
       " 705                 аренда  \n",
       " \n",
       " [706 rows x 4 columns]]"
      ]
     },
     "execution_count": 8,
     "metadata": {},
     "output_type": "execute_result"
    }
   ],
   "source": [
    "import requests\n",
    "\n",
    "h = { 'user-agent': 'Mozilla/5.0 (Windows NT 10.0; Win64; x64) AppleWebKit/537.36 (KHTML, like Gecko) Chrome/87.0.4280.88 Safari/537.36' }\n",
    "r = requests.get('https://ru.soccerway.com/players/', headers=h)\n",
    "\n",
    "tables = pd.read_html(r.text, attrs = {'class': 'transfers'})\n",
    "\n",
    "tables[:10]\n"
   ]
  }
 ],
 "metadata": {
  "kernelspec": {
   "display_name": "Python 3",
   "language": "python",
   "name": "python3"
  },
  "language_info": {
   "codemirror_mode": {
    "name": "ipython",
    "version": 3
   },
   "file_extension": ".py",
   "mimetype": "text/x-python",
   "name": "python",
   "nbconvert_exporter": "python",
   "pygments_lexer": "ipython3",
   "version": "3.7.4"
  }
 },
 "nbformat": 4,
 "nbformat_minor": 2
}
