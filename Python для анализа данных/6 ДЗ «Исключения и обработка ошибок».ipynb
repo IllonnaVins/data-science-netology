{
 "cells": [
  {
   "cell_type": "markdown",
   "metadata": {},
   "source": [
    "### Домашнее задание к лекции \"Исключения и обработка ошибок\""
   ]
  },
  {
   "cell_type": "markdown",
   "metadata": {},
   "source": [
    "### Задание 1"
   ]
  },
  {
   "cell_type": "code",
   "execution_count": null,
   "metadata": {},
   "outputs": [],
   "source": [
    "from datetime import datetime, timedelta\n",
    "\n",
    "the_moscow_times = 'Wednesday, October 2, 2002'\n",
    "the_guardian = 'Friday, 11.10.13'\n",
    "daily_news = 'Thursday, 18 August 1977'\n",
    "\n",
    "date_the_moscow_times = datetime.strptime(the_moscow_times, '%A, %B %d, %Y')\n",
    "date_the_guardian = datetime.strptime(the_guardian, '%A, %d.%m.%y')\n",
    "date_daily_news = datetime.strptime(daily_news, '%A, %d %B %Y')\n",
    "\n",
    "print(date_the_moscow_times)\n",
    "print(date_the_guardian)\n",
    "print(date_daily_news)"
   ]
  },
  {
   "cell_type": "markdown",
   "metadata": {},
   "source": [
    "### Задание 2"
   ]
  },
  {
   "cell_type": "code",
   "execution_count": null,
   "metadata": {},
   "outputs": [],
   "source": [
    "stream = ['2018-04-02', '2018-02-29', '2018-19-02']\n",
    "\n",
    "def is_valid_date(date):\n",
    "    try:\n",
    "        date = datetime.strptime(date, '%Y-%m-%d')\n",
    "        return True\n",
    "        \n",
    "    except:\n",
    "        return False\n",
    "\n",
    "for date in stream:\n",
    "    print(is_valid_date(date))"
   ]
  },
  {
   "cell_type": "markdown",
   "metadata": {},
   "source": [
    "### Задание 3"
   ]
  },
  {
   "cell_type": "code",
   "execution_count": null,
   "metadata": {},
   "outputs": [],
   "source": [
    "from datetime import datetime, timedelta\n",
    "\n",
    "def date_range(start_date, end_date):    \n",
    "    try:\n",
    "        date_format = '%Y-%m-%d'\n",
    "        start = datetime.strptime(start_date, date_format)\n",
    "        end = datetime.strptime(end_date, date_format)\n",
    "        \n",
    "        if start > end:\n",
    "            return []\n",
    "        \n",
    "        current_date = start\n",
    "        result = []\n",
    "        \n",
    "        while current_date <= end:\n",
    "            result.append(current_date.strftime(date_format))\n",
    "            \n",
    "            current_date += timedelta(days=1)\n",
    "            \n",
    "        return result\n",
    "        \n",
    "    except:\n",
    "        return []\n",
    "    \n",
    "print('Введите первую дату')\n",
    "start_date = input() \n",
    "\n",
    "print('Введите последнюю дату')\n",
    "end_date = input() \n",
    "\n",
    "print(date_range(start_date, end_date))"
   ]
  },
  {
   "cell_type": "markdown",
   "metadata": {},
   "source": [
    "### Задание 4"
   ]
  },
  {
   "cell_type": "markdown",
   "metadata": {},
   "source": [
    "###### Что значит ошибка list index out of range?\n",
    "\n",
    "В списке нет элемента с таким индексом.\n",
    "\n",
    "\n",
    "###### Почему при первом запуске функция работает корректно, а при втором - нет?\n",
    "\n",
    "Ошибка в строке: `return default_list[DEFAULT_USER_COUNT-2]'`\n",
    "\n",
    "\n",
    "DEFAULT_USER_COUNT не меняется, и она возвращает не последний элемент списка, а всегда элемент с индексом 1. \n",
    "\n",
    "Таким образом при первом запуске в списке индексы 0,1,2. Второй удалили, первый вернули. При втором запуске в списке только 0,1. Первый удалили и его же попытались вернуть.\n",
    "\n",
    "Вариант исправления: `return default_list[len(default_list)-1]`\n",
    "\n",
    "Эта фунция в целом не должна быть завязана на константу DEFAULT_USER_COUNT, а только на собственные аргументы"
   ]
  }
 ],
 "metadata": {
  "kernelspec": {
   "display_name": "Python 3",
   "language": "python",
   "name": "python3"
  },
  "language_info": {
   "codemirror_mode": {
    "name": "ipython",
    "version": 3
   },
   "file_extension": ".py",
   "mimetype": "text/x-python",
   "name": "python",
   "nbconvert_exporter": "python",
   "pygments_lexer": "ipython3",
   "version": "3.7.4"
  }
 },
 "nbformat": 4,
 "nbformat_minor": 2
}
