{
 "cells": [
  {
   "cell_type": "markdown",
   "metadata": {},
   "source": [
    "### Домашнее задание к лекции \"Работа с файловой системой и модули\""
   ]
  },
  {
   "cell_type": "code",
   "execution_count": 2,
   "metadata": {},
   "outputs": [],
   "source": [
    "import json\n",
    "\n",
    "# Задание 1\n",
    "\n",
    "purchase = {}\n",
    "\n",
    "with open('purchase_log.txt', encoding='utf-8') as logs:\n",
    "    for i, line in enumerate(logs):\n",
    "        \n",
    "        if i == 0:\n",
    "            continue\n",
    "        \n",
    "        dict_ = json.loads(line.strip())\n",
    "        \n",
    "        purchase[dict_['user_id']] = dict_['category']    \n",
    "        \n",
    "\n",
    "# Задание 2\n",
    "\n",
    "with open('visit_log.csv', encoding='utf-8') as visits:\n",
    "    with open('funnel.csv', 'w', encoding='utf-8') as results:\n",
    "        \n",
    "        for i, line in enumerate(visits):\n",
    "            \n",
    "            if i == 0:\n",
    "                results.write(f'user_id,category\\n')\n",
    "                continue\n",
    "                \n",
    "            user_id = line.strip().split(',')[0]\n",
    "            \n",
    "            if user_id in purchase:\n",
    "                results.write(f'{user_id},{purchase[user_id]}\\n')\n"
   ]
  }
 ],
 "metadata": {
  "kernelspec": {
   "display_name": "Python 3",
   "language": "python",
   "name": "python3"
  },
  "language_info": {
   "codemirror_mode": {
    "name": "ipython",
    "version": 3
   },
   "file_extension": ".py",
   "mimetype": "text/x-python",
   "name": "python",
   "nbconvert_exporter": "python",
   "pygments_lexer": "ipython3",
   "version": "3.7.4"
  }
 },
 "nbformat": 4,
 "nbformat_minor": 2
}
