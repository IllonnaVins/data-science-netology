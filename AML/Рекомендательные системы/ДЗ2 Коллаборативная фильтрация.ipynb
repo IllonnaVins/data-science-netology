{
 "cells": [
  {
   "cell_type": "markdown",
   "metadata": {},
   "source": [
    "# Домашнее задание к лекции «Коллаборативная фильтрация»"
   ]
  },
  {
   "cell_type": "code",
   "execution_count": 28,
   "metadata": {},
   "outputs": [],
   "source": [
    "from surprise import SVD, KNNBaseline, KNNWithMeans, KNNBasic, KNNWithZScore, SVDpp, SlopeOne, NMF, BaselineOnly, CoClustering\n",
    "from surprise import Dataset\n",
    "from surprise.model_selection import cross_validate\n",
    "\n",
    "import pandas as pd"
   ]
  },
  {
   "cell_type": "markdown",
   "metadata": {},
   "source": [
    "Загружаем данные"
   ]
  },
  {
   "cell_type": "code",
   "execution_count": 7,
   "metadata": {},
   "outputs": [],
   "source": [
    "data = Dataset.load_builtin('ml-100k')"
   ]
  },
  {
   "cell_type": "code",
   "execution_count": 33,
   "metadata": {},
   "outputs": [],
   "source": [
    "def fit_model(models, df, measures=['RMSE'], cv=5):        \n",
    "    res = []\n",
    "    \n",
    "    for model in models:\n",
    "        results = cross_validate(model, df, measures=measures, cv=cv, verbose=False)  \n",
    "\n",
    "        tmp = pd.DataFrame.from_dict(results).mean(axis=0)\n",
    "        tmp = tmp.append(pd.Series([str(model).split(' ')[0].split('.')[-1]], index=['Model']))\n",
    "        res.append(tmp)\n",
    "    \n",
    "    print(pd.DataFrame(res).set_index('Model'))"
   ]
  },
  {
   "cell_type": "markdown",
   "metadata": {},
   "source": [
    "Строим модели"
   ]
  },
  {
   "cell_type": "code",
   "execution_count": 36,
   "metadata": {},
   "outputs": [
    {
     "name": "stdout",
     "output_type": "stream",
     "text": [
      "               test_rmse    fit_time  test_time\n",
      "Model                                          \n",
      "SVD             0.937092    4.764888   0.156593\n",
      "SVDpp           0.919994  191.429466   3.658072\n",
      "KNNBaseline     0.928943    0.918799   4.396213\n",
      "KNNWithMeans    0.950730    0.542008   3.368190\n",
      "KNNBasic        0.979306    0.509018   3.498884\n",
      "KNNWithZScore   0.950535    0.739005   4.163612\n",
      "SlopeOne        0.944763    0.832602   2.598210\n",
      "NMF             0.962510    5.226774   0.177408\n",
      "BaselineOnly    0.943784    0.249214   0.140399\n",
      "CoClustering    0.965982    2.265007   0.135586\n"
     ]
    }
   ],
   "source": [
    "fit_model([SVD(), SVDpp(verbose=False), KNNBaseline(verbose=False), KNNWithMeans(verbose=False), KNNBasic(verbose=False),\n",
    "           KNNWithZScore(verbose=False), SlopeOne(), NMF(verbose=False), BaselineOnly(verbose=False),\n",
    "           CoClustering(verbose=False)], data)"
   ]
  },
  {
   "cell_type": "markdown",
   "metadata": {},
   "source": [
    "Как видно из таблицы, самый высокий результат получился у модели KNNBasic.\n",
    "\n",
    "Вопросы по ДЗ:\n",
    "- в ДЗ написано \"получите RMSE на тестовом сете 0.87 и <b>ниже</b>\". Я правильно понимаю, что это описка и имеется ввиду 0.87 и выше? Вряд ли предлагается искусственно портить результаты модели...\n",
    "- Может, я что-то упустила в этом задании, но фактически это  10 строк, которые можно взять с главной страницы документации surprise, с небольшими правками на кол-во моделей и вывод результата. Так и задумано?"
   ]
  }
 ],
 "metadata": {
  "kernelspec": {
   "display_name": "Python 3",
   "language": "python",
   "name": "python3"
  },
  "language_info": {
   "codemirror_mode": {
    "name": "ipython",
    "version": 3
   },
   "file_extension": ".py",
   "mimetype": "text/x-python",
   "name": "python",
   "nbconvert_exporter": "python",
   "pygments_lexer": "ipython3",
   "version": "3.8.10"
  }
 },
 "nbformat": 4,
 "nbformat_minor": 2
}
