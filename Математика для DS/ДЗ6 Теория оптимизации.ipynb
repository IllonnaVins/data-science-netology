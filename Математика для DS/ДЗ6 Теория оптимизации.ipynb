{
 "cells": [
  {
   "cell_type": "markdown",
   "metadata": {},
   "source": [
    "# Домашнее задание к лекции «Теория оптимизации»"
   ]
  },
  {
   "cell_type": "code",
   "execution_count": 32,
   "metadata": {},
   "outputs": [],
   "source": [
    "import numpy as np\n",
    "import matplotlib.pyplot as plt\n",
    "\n",
    "from scipy.optimize import differential_evolution"
   ]
  },
  {
   "cell_type": "markdown",
   "metadata": {},
   "source": [
    "### Задание.\n",
    "\n",
    "При фиксированном seed=42 поразбирайтесь и поэкспериментируйте с параметрами алгоритма дифференциальной эволюции: strategy, popsize, tol, mutation, recombination и updating.\n",
    "\n",
    "Постройте графики количества итераций оптимизации функции ackley от значения параметра."
   ]
  },
  {
   "cell_type": "code",
   "execution_count": 33,
   "metadata": {},
   "outputs": [],
   "source": [
    "def ackley(x):\n",
    "    arg1 = -0.2 * np.sqrt(0.5 * (x[0] ** 2 + x[1] ** 2))\n",
    "    arg2 = 0.5 * (np.cos(2. * np.pi * x[0]) + np.cos(2. * np.pi * x[1]))\n",
    "    return -20. * np.exp(arg1) - np.exp(arg2) + 20. + np.e\n",
    "\n",
    "bounds = [(-10, 10), (-10, 10)]"
   ]
  },
  {
   "cell_type": "code",
   "execution_count": 37,
   "metadata": {},
   "outputs": [
    {
     "name": "stdout",
     "output_type": "stream",
     "text": [
      "\n",
      "best1bin\n",
      "     fun: 4.440892098500626e-16\n",
      " message: 'Optimization terminated successfully.'\n",
      "    nfev: 2793\n",
      "     nit: 90\n",
      " success: True\n",
      "       x: array([0., 0.])\n",
      "\n",
      "best1exp\n",
      "     fun: 4.440892098500626e-16\n",
      " message: 'Optimization terminated successfully.'\n",
      "    nfev: 4503\n",
      "     nit: 147\n",
      " success: True\n",
      "       x: array([0., 0.])\n",
      "\n",
      "rand1exp\n",
      "     fun: 4.440892098500626e-16\n",
      " message: 'Optimization terminated successfully.'\n",
      "    nfev: 7473\n",
      "     nit: 246\n",
      " success: True\n",
      "       x: array([0., 0.])\n",
      "\n",
      "randtobest1exp\n",
      "     fun: 4.440892098500626e-16\n",
      " message: 'Optimization terminated successfully.'\n",
      "    nfev: 4773\n",
      "     nit: 156\n",
      " success: True\n",
      "       x: array([0., 0.])\n",
      "\n",
      "currenttobest1exp\n",
      "     fun: 4.440892098500626e-16\n",
      " message: 'Maximum number of iterations has been exceeded.'\n",
      "    nfev: 30093\n",
      "     nit: 1000\n",
      " success: False\n",
      "       x: array([0., 0.])\n",
      "\n",
      "best2exp\n",
      "     fun: 4.440892098500626e-16\n",
      " message: 'Optimization terminated successfully.'\n",
      "    nfev: 7413\n",
      "     nit: 244\n",
      " success: True\n",
      "       x: array([0., 0.])\n",
      "\n",
      "rand2exp\n",
      "     fun: 4.440892098500626e-16\n",
      " message: 'Optimization terminated successfully.'\n",
      "    nfev: 10323\n",
      "     nit: 341\n",
      " success: True\n",
      "       x: array([0., 0.])\n",
      "\n",
      "randtobest1bin\n",
      "     fun: 4.440892098500626e-16\n",
      " message: 'Optimization terminated successfully.'\n",
      "    nfev: 3123\n",
      "     nit: 101\n",
      " success: True\n",
      "       x: array([0., 0.])\n",
      "\n",
      "currenttobest1bin\n",
      "     fun: 4.440892098500626e-16\n",
      " message: 'Maximum number of iterations has been exceeded.'\n",
      "    nfev: 30093\n",
      "     nit: 1000\n",
      " success: False\n",
      "       x: array([0., 0.])\n",
      "\n",
      "best2bin\n",
      "     fun: 4.440892098500626e-16\n",
      " message: 'Optimization terminated successfully.'\n",
      "    nfev: 5073\n",
      "     nit: 166\n",
      " success: True\n",
      "       x: array([0., 0.])\n",
      "\n",
      "rand2bin\n",
      "     fun: 4.440892098500626e-16\n",
      " message: 'Optimization terminated successfully.'\n",
      "    nfev: 7053\n",
      "     nit: 232\n",
      " success: True\n",
      "       x: array([0., 0.])\n",
      "\n",
      "rand1bin\n",
      "     fun: 4.440892098500626e-16\n",
      " message: 'Optimization terminated successfully.'\n",
      "    nfev: 5133\n",
      "     nit: 168\n",
      " success: True\n",
      "       x: array([0., 0.])\n"
     ]
    }
   ],
   "source": [
    "strategy = ['best1bin', 'best1exp', 'rand1exp', 'randtobest1exp', 'currenttobest1exp', 'best2exp', 'rand2exp', 'randtobest1bin', 'currenttobest1bin', 'best2bin', 'rand2bin', 'rand1bin']\n",
    "strategy_nit = []\n",
    "\n",
    "for i in strategy:\n",
    "    result = differential_evolution(ackley, bounds, seed=42, strategy=i)\n",
    "    print()\n",
    "    print(i)\n",
    "    print(result)\n",
    "    \n",
    "    strategy_nit.append(result.nit)        "
   ]
  },
  {
   "cell_type": "code",
   "execution_count": 35,
   "metadata": {},
   "outputs": [
    {
     "data": {
      "image/png": "[encoded data removed]",
      "text/plain": [
       "<Figure size 432x288 with 1 Axes>"
      ]
     },
     "metadata": {
      "needs_background": "light"
     },
     "output_type": "display_data"
    }
   ],
   "source": [
    "fig, ax = plt.subplots()\n",
    "\n",
    "ax.plot(strategy, strategy_nit)\n",
    "ax.grid()\n",
    "\n",
    "\n",
    "ax.set_xlabel('Strategy')\n",
    "ax.set_ylabel('Nit')\n",
    "\n",
    "plt.gcf().autofmt_xdate()\n",
    "\n",
    "plt.show()"
   ]
  },
  {
   "cell_type": "markdown",
   "metadata": {},
   "source": [
    "<b><i>Как видно из графика лучшие результаты по итерациям у best1bin и randtobest1bin, худшие у currenttobest1exp и currenttobest1exp</i></b>"
   ]
  },
  {
   "cell_type": "code",
   "execution_count": 38,
   "metadata": {},
   "outputs": [
    {
     "name": "stdout",
     "output_type": "stream",
     "text": [
      "\n",
      "1\n",
      "     fun: 2.57992755702988\n",
      "     jac: array([-3.55271368e-07,  0.00000000e+00])\n",
      " message: 'Optimization terminated successfully.'\n",
      "    nfev: 103\n",
      "     nit: 7\n",
      " success: True\n",
      "       x: array([-1.63444732e-08,  9.52166535e-01])\n",
      "\n",
      "2\n",
      "     fun: 2.57992755702988\n",
      "     jac: array([-3.55271368e-07,  0.00000000e+00])\n",
      " message: 'Optimization terminated successfully.'\n",
      "    nfev: 103\n",
      "     nit: 7\n",
      " success: True\n",
      "       x: array([-1.63444732e-08,  9.52166535e-01])\n",
      "\n",
      "3\n",
      "     fun: 0.0006331649446029708\n",
      " message: 'Optimization terminated successfully.'\n",
      "    nfev: 372\n",
      "     nit: 29\n",
      " success: True\n",
      "       x: array([-2.23261827e-04,  7.50128262e-06])\n",
      "\n",
      "4\n",
      "     fun: 1.4133669502758295e-05\n",
      " message: 'Optimization terminated successfully.'\n",
      "    nfev: 506\n",
      "     nit: 39\n",
      " success: True\n",
      "       x: array([ 4.99555835e-06, -1.10110403e-07])\n",
      "\n",
      "5\n",
      "     fun: 4.440892098500626e-16\n",
      " message: 'Optimization terminated successfully.'\n",
      "    nfev: 1073\n",
      "     nit: 100\n",
      " success: True\n",
      "       x: array([0., 0.])\n",
      "\n",
      "6\n",
      "     fun: 4.440892098500626e-16\n",
      " message: 'Optimization terminated successfully.'\n",
      "    nfev: 1263\n",
      "     nit: 99\n",
      " success: True\n",
      "       x: array([0., 0.])\n",
      "\n",
      "7\n",
      "     fun: 4.440892098500626e-16\n",
      " message: 'Optimization terminated successfully.'\n",
      "    nfev: 1295\n",
      "     nit: 87\n",
      " success: True\n",
      "       x: array([0., 0.])\n",
      "\n",
      "8\n",
      "     fun: 4.440892098500626e-16\n",
      " message: 'Optimization terminated successfully.'\n",
      "    nfev: 1631\n",
      "     nit: 97\n",
      " success: True\n",
      "       x: array([0., 0.])\n",
      "\n",
      "9\n",
      "     fun: 4.440892098500626e-16\n",
      " message: 'Optimization terminated successfully.'\n",
      "    nfev: 1899\n",
      "     nit: 101\n",
      " success: True\n",
      "       x: array([0., 0.])\n"
     ]
    }
   ],
   "source": [
    "popsize = np.arange(1, 10)\n",
    "popsize_nit = []\n",
    "\n",
    "for i in popsize:\n",
    "    result = differential_evolution(ackley, bounds, seed=42, popsize=i)\n",
    "    print()\n",
    "    print(i)\n",
    "    print(result)\n",
    "    \n",
    "    popsize_nit.append(result.nit)       "
   ]
  },
  {
   "cell_type": "code",
   "execution_count": 28,
   "metadata": {},
   "outputs": [
    {
     "data": {
      "image/png": "[encoded data removed]",
      "text/plain": [
       "<Figure size 432x288 with 1 Axes>"
      ]
     },
     "metadata": {
      "needs_background": "light"
     },
     "output_type": "display_data"
    }
   ],
   "source": [
    "fig, ax = plt.subplots()\n",
    "\n",
    "ax.plot(popsize, popsize_nit)\n",
    "ax.grid()\n",
    "\n",
    "\n",
    "ax.set_xlabel('Popsize')\n",
    "ax.set_ylabel('Nit')\n",
    "\n",
    "plt.gcf().autofmt_xdate()\n",
    "\n",
    "plt.show()"
   ]
  },
  {
   "cell_type": "markdown",
   "metadata": {},
   "source": [
    "<b><i>Как видно из графика лучшие результаты по итерациям при popsize 1 или 2, но при этом результаты с x: array([0., 0.]) начинаются от 5 и выше, при этом кол-во итераций уже меняется незначительно</i></b>"
   ]
  },
  {
   "cell_type": "code",
   "execution_count": 41,
   "metadata": {},
   "outputs": [
    {
     "name": "stdout",
     "output_type": "stream",
     "text": [
      "\n",
      "0.1\n",
      "     fun: 4.440892098500626e-16\n",
      " message: 'Optimization terminated successfully.'\n",
      "    nfev: 2793\n",
      "     nit: 90\n",
      " success: True\n",
      "       x: array([0., 0.])\n",
      "\n",
      "0.2\n",
      "     fun: 4.440892098500626e-16\n",
      " message: 'Optimization terminated successfully.'\n",
      "    nfev: 2793\n",
      "     nit: 90\n",
      " success: True\n",
      "       x: array([0., 0.])\n",
      "\n",
      "0.30000000000000004\n",
      "     fun: 4.440892098500626e-16\n",
      " message: 'Optimization terminated successfully.'\n",
      "    nfev: 2793\n",
      "     nit: 90\n",
      " success: True\n",
      "       x: array([0., 0.])\n",
      "\n",
      "0.4\n",
      "     fun: 2.5799275570298943\n",
      "     jac: array([ 1.42108547e-06, -3.55271366e-07])\n",
      " message: 'Optimization terminated successfully.'\n",
      "    nfev: 114\n",
      "     nit: 1\n",
      " success: True\n",
      "       x: array([2.51714456e-08, 9.52166536e-01])\n",
      "\n",
      "0.5\n",
      "     fun: 2.5799275570298943\n",
      "     jac: array([ 1.42108547e-06, -3.55271366e-07])\n",
      " message: 'Optimization terminated successfully.'\n",
      "    nfev: 114\n",
      "     nit: 1\n",
      " success: True\n",
      "       x: array([2.51714456e-08, 9.52166536e-01])\n",
      "\n",
      "0.6\n",
      "     fun: 2.5799275570298943\n",
      "     jac: array([ 1.42108547e-06, -3.55271366e-07])\n",
      " message: 'Optimization terminated successfully.'\n",
      "    nfev: 114\n",
      "     nit: 1\n",
      " success: True\n",
      "       x: array([2.51714456e-08, 9.52166536e-01])\n",
      "\n",
      "0.7000000000000001\n",
      "     fun: 2.5799275570298943\n",
      "     jac: array([ 1.42108547e-06, -3.55271366e-07])\n",
      " message: 'Optimization terminated successfully.'\n",
      "    nfev: 114\n",
      "     nit: 1\n",
      " success: True\n",
      "       x: array([2.51714456e-08, 9.52166536e-01])\n",
      "\n",
      "0.8\n",
      "     fun: 2.5799275570298943\n",
      "     jac: array([ 1.42108547e-06, -3.55271366e-07])\n",
      " message: 'Optimization terminated successfully.'\n",
      "    nfev: 114\n",
      "     nit: 1\n",
      " success: True\n",
      "       x: array([2.51714456e-08, 9.52166536e-01])\n",
      "\n",
      "0.9\n",
      "     fun: 2.5799275570298943\n",
      "     jac: array([ 1.42108547e-06, -3.55271366e-07])\n",
      " message: 'Optimization terminated successfully.'\n",
      "    nfev: 114\n",
      "     nit: 1\n",
      " success: True\n",
      "       x: array([2.51714456e-08, 9.52166536e-01])\n"
     ]
    }
   ],
   "source": [
    "tol = np.arange(0.1, 1, 0.1)\n",
    "tol_nit = []\n",
    "\n",
    "for i in tol:\n",
    "    result = differential_evolution(ackley, bounds, seed=42, tol=i)\n",
    "    print()\n",
    "    print(i)\n",
    "    print(result)\n",
    "    \n",
    "    tol_nit.append(result.nit)   "
   ]
  },
  {
   "cell_type": "code",
   "execution_count": 12,
   "metadata": {},
   "outputs": [
    {
     "data": {
      "image/png": "[encoded data removed]",
      "text/plain": [
       "<Figure size 432x288 with 1 Axes>"
      ]
     },
     "metadata": {
      "needs_background": "light"
     },
     "output_type": "display_data"
    }
   ],
   "source": [
    "fig, ax = plt.subplots()\n",
    "\n",
    "ax.plot(tol, tol_nit)\n",
    "ax.grid()\n",
    "\n",
    "\n",
    "ax.set_xlabel('Tol')\n",
    "ax.set_ylabel('Nit')\n",
    "\n",
    "plt.gcf().autofmt_xdate()\n",
    "\n",
    "plt.show()"
   ]
  },
  {
   "cell_type": "markdown",
   "metadata": {},
   "source": [
    "<b><i>Как видно из графика с 0.3 по 0.4 кол-во итераций падает и дальше не меняется, при этом чем выше допуск, тем менее достоверные результаты</i></b>"
   ]
  },
  {
   "cell_type": "code",
   "execution_count": 42,
   "metadata": {},
   "outputs": [
    {
     "name": "stdout",
     "output_type": "stream",
     "text": [
      "\n",
      "0.1\n",
      "     fun: 3.5744518772596803\n",
      "     jac: array([ 2.13162820e-06, -1.42108546e-05])\n",
      " message: 'Optimization terminated successfully.'\n",
      "    nfev: 192\n",
      "     nit: 5\n",
      " success: True\n",
      "       x: array([0.96847769, 0.96847738])\n",
      "\n",
      "0.2\n",
      "     fun: 4.440892098500626e-16\n",
      " message: 'Optimization terminated successfully.'\n",
      "    nfev: 933\n",
      "     nit: 28\n",
      " success: True\n",
      "       x: array([0., 0.])\n",
      "\n",
      "0.30000000000000004\n",
      "     fun: 4.440892098500626e-16\n",
      " message: 'Optimization terminated successfully.'\n",
      "    nfev: 1203\n",
      "     nit: 37\n",
      " success: True\n",
      "       x: array([0., 0.])\n",
      "\n",
      "0.4\n",
      "     fun: 4.440892098500626e-16\n",
      " message: 'Optimization terminated successfully.'\n",
      "    nfev: 1503\n",
      "     nit: 47\n",
      " success: True\n",
      "       x: array([0., 0.])\n",
      "\n",
      "0.5\n",
      "     fun: 4.440892098500626e-16\n",
      " message: 'Optimization terminated successfully.'\n",
      "    nfev: 1803\n",
      "     nit: 57\n",
      " success: True\n",
      "       x: array([0., 0.])\n",
      "\n",
      "0.6\n",
      "     fun: 4.440892098500626e-16\n",
      " message: 'Optimization terminated successfully.'\n",
      "    nfev: 2373\n",
      "     nit: 76\n",
      " success: True\n",
      "       x: array([0., 0.])\n",
      "\n",
      "0.7000000000000001\n",
      "     fun: 4.440892098500626e-16\n",
      " message: 'Optimization terminated successfully.'\n",
      "    nfev: 2823\n",
      "     nit: 91\n",
      " success: True\n",
      "       x: array([0., 0.])\n",
      "\n",
      "0.8\n",
      "     fun: 4.440892098500626e-16\n",
      " message: 'Optimization terminated successfully.'\n",
      "    nfev: 3213\n",
      "     nit: 104\n",
      " success: True\n",
      "       x: array([0., 0.])\n",
      "\n",
      "0.9\n",
      "     fun: 4.440892098500626e-16\n",
      " message: 'Optimization terminated successfully.'\n",
      "    nfev: 4203\n",
      "     nit: 137\n",
      " success: True\n",
      "       x: array([0., 0.])\n"
     ]
    }
   ],
   "source": [
    "mutation = np.arange(0.1, 1, 0.1)\n",
    "mutation_nit = []\n",
    "\n",
    "for i in mutation:\n",
    "    result = differential_evolution(ackley, bounds, seed=42, mutation=i)\n",
    "    print()\n",
    "    print(i)\n",
    "    print(result)\n",
    "    \n",
    "    mutation_nit.append(result.nit)   "
   ]
  },
  {
   "cell_type": "code",
   "execution_count": 14,
   "metadata": {},
   "outputs": [
    {
     "data": {
      "image/png": "[encoded data removed]",
      "text/plain": [
       "<Figure size 432x288 with 1 Axes>"
      ]
     },
     "metadata": {
      "needs_background": "light"
     },
     "output_type": "display_data"
    }
   ],
   "source": [
    "fig, ax = plt.subplots()\n",
    "\n",
    "ax.plot(mutation, mutation_nit)\n",
    "ax.grid()\n",
    "\n",
    "\n",
    "ax.set_xlabel('Mutation')\n",
    "ax.set_ylabel('Nit')\n",
    "\n",
    "plt.gcf().autofmt_xdate()\n",
    "\n",
    "plt.show()"
   ]
  },
  {
   "cell_type": "markdown",
   "metadata": {},
   "source": [
    "<b><i>Как видно из графика чем выше коэффициент мутации, тем больше интераций</i></b>"
   ]
  },
  {
   "cell_type": "code",
   "execution_count": 43,
   "metadata": {},
   "outputs": [
    {
     "name": "stdout",
     "output_type": "stream",
     "text": [
      "\n",
      "0.05\n",
      "     fun: 4.440892098500626e-16\n",
      " message: 'Optimization terminated successfully.'\n",
      "    nfev: 3333\n",
      "     nit: 108\n",
      " success: True\n",
      "       x: array([0., 0.])\n",
      "\n",
      "0.1\n",
      "     fun: 4.440892098500626e-16\n",
      " message: 'Optimization terminated successfully.'\n",
      "    nfev: 3873\n",
      "     nit: 126\n",
      " success: True\n",
      "       x: array([0., 0.])\n",
      "\n",
      "0.15000000000000002\n",
      "     fun: 4.440892098500626e-16\n",
      " message: 'Optimization terminated successfully.'\n",
      "    nfev: 3573\n",
      "     nit: 116\n",
      " success: True\n",
      "       x: array([0., 0.])\n",
      "\n",
      "0.2\n",
      "     fun: 4.440892098500626e-16\n",
      " message: 'Optimization terminated successfully.'\n",
      "    nfev: 3393\n",
      "     nit: 110\n",
      " success: True\n",
      "       x: array([0., 0.])\n",
      "\n",
      "0.25\n",
      "     fun: 4.440892098500626e-16\n",
      " message: 'Optimization terminated successfully.'\n",
      "    nfev: 3573\n",
      "     nit: 116\n",
      " success: True\n",
      "       x: array([0., 0.])\n",
      "\n",
      "0.3\n",
      "     fun: 4.440892098500626e-16\n",
      " message: 'Optimization terminated successfully.'\n",
      "    nfev: 3333\n",
      "     nit: 108\n",
      " success: True\n",
      "       x: array([0., 0.])\n",
      "\n",
      "0.35000000000000003\n",
      "     fun: 4.440892098500626e-16\n",
      " message: 'Optimization terminated successfully.'\n",
      "    nfev: 3423\n",
      "     nit: 111\n",
      " success: True\n",
      "       x: array([0., 0.])\n",
      "\n",
      "0.4\n",
      "     fun: 4.440892098500626e-16\n",
      " message: 'Optimization terminated successfully.'\n",
      "    nfev: 3333\n",
      "     nit: 108\n",
      " success: True\n",
      "       x: array([0., 0.])\n",
      "\n",
      "0.45\n",
      "     fun: 4.440892098500626e-16\n",
      " message: 'Optimization terminated successfully.'\n",
      "    nfev: 3273\n",
      "     nit: 106\n",
      " success: True\n",
      "       x: array([0., 0.])\n",
      "\n",
      "0.5\n",
      "     fun: 4.440892098500626e-16\n",
      " message: 'Optimization terminated successfully.'\n",
      "    nfev: 3303\n",
      "     nit: 107\n",
      " success: True\n",
      "       x: array([0., 0.])\n",
      "\n",
      "0.55\n",
      "     fun: 4.440892098500626e-16\n",
      " message: 'Optimization terminated successfully.'\n",
      "    nfev: 3093\n",
      "     nit: 100\n",
      " success: True\n",
      "       x: array([0., 0.])\n",
      "\n",
      "0.6000000000000001\n",
      "     fun: 4.440892098500626e-16\n",
      " message: 'Optimization terminated successfully.'\n",
      "    nfev: 2973\n",
      "     nit: 96\n",
      " success: True\n",
      "       x: array([0., 0.])\n",
      "\n",
      "0.6500000000000001\n",
      "     fun: 4.440892098500626e-16\n",
      " message: 'Optimization terminated successfully.'\n",
      "    nfev: 2853\n",
      "     nit: 92\n",
      " success: True\n",
      "       x: array([0., 0.])\n",
      "\n",
      "0.7000000000000001\n",
      "     fun: 4.440892098500626e-16\n",
      " message: 'Optimization terminated successfully.'\n",
      "    nfev: 2793\n",
      "     nit: 90\n",
      " success: True\n",
      "       x: array([0., 0.])\n",
      "\n",
      "0.7500000000000001\n",
      "     fun: 4.440892098500626e-16\n",
      " message: 'Optimization terminated successfully.'\n",
      "    nfev: 2793\n",
      "     nit: 90\n",
      " success: True\n",
      "       x: array([0., 0.])\n",
      "\n",
      "0.8\n",
      "     fun: 4.440892098500626e-16\n",
      " message: 'Optimization terminated successfully.'\n",
      "    nfev: 2613\n",
      "     nit: 84\n",
      " success: True\n",
      "       x: array([0., 0.])\n",
      "\n",
      "0.8500000000000001\n",
      "     fun: 4.440892098500626e-16\n",
      " message: 'Optimization terminated successfully.'\n",
      "    nfev: 2643\n",
      "     nit: 85\n",
      " success: True\n",
      "       x: array([0., 0.])\n",
      "\n",
      "0.9000000000000001\n",
      "     fun: 4.440892098500626e-16\n",
      " message: 'Optimization terminated successfully.'\n",
      "    nfev: 2643\n",
      "     nit: 85\n",
      " success: True\n",
      "       x: array([0., 0.])\n",
      "\n",
      "0.9500000000000001\n",
      "     fun: 4.440892098500626e-16\n",
      " message: 'Optimization terminated successfully.'\n",
      "    nfev: 2673\n",
      "     nit: 86\n",
      " success: True\n",
      "       x: array([0., 0.])\n"
     ]
    }
   ],
   "source": [
    "recombination = np.arange(0.05, 1, 0.05)\n",
    "recombination_nit = []\n",
    "\n",
    "for i in recombination:\n",
    "    result = differential_evolution(ackley, bounds, seed=42, recombination=i)\n",
    "    print()\n",
    "    print(i)\n",
    "    print(result)\n",
    "    \n",
    "    recombination_nit.append(result.nit)   "
   ]
  },
  {
   "cell_type": "code",
   "execution_count": 16,
   "metadata": {},
   "outputs": [
    {
     "data": {
      "image/png": "[encoded data removed]",
      "text/plain": [
       "<Figure size 432x288 with 1 Axes>"
      ]
     },
     "metadata": {
      "needs_background": "light"
     },
     "output_type": "display_data"
    }
   ],
   "source": [
    "fig, ax = plt.subplots()\n",
    "\n",
    "ax.plot(recombination, recombination_nit)\n",
    "ax.grid()\n",
    "\n",
    "\n",
    "ax.set_xlabel('Recombination')\n",
    "ax.set_ylabel('Nit')\n",
    "\n",
    "plt.gcf().autofmt_xdate()\n",
    "\n",
    "plt.show()"
   ]
  },
  {
   "cell_type": "markdown",
   "metadata": {},
   "source": [
    "<b><i>Как видно из графика чем с увеличением коэффициента рекомбинациии, кол-во интераций падает, но неплавно</i></b>"
   ]
  },
  {
   "cell_type": "code",
   "execution_count": 45,
   "metadata": {},
   "outputs": [
    {
     "name": "stdout",
     "output_type": "stream",
     "text": [
      "\n",
      "immediate\n",
      "     fun: 4.440892098500626e-16\n",
      " message: 'Optimization terminated successfully.'\n",
      "    nfev: 2793\n",
      "     nit: 90\n",
      " success: True\n",
      "       x: array([0., 0.])\n",
      "\n",
      "deferred\n",
      "     fun: 4.440892098500626e-16\n",
      " message: 'Optimization terminated successfully.'\n",
      "    nfev: 3753\n",
      "     nit: 122\n",
      " success: True\n",
      "       x: array([0., 0.])\n"
     ]
    }
   ],
   "source": [
    "updating = ['immediate', 'deferred']\n",
    "updating_nit = []\n",
    "\n",
    "for i in updating:\n",
    "    result = differential_evolution(ackley, bounds, seed=42, updating=i)\n",
    "    print()\n",
    "    print(i)\n",
    "    print(result)\n",
    "    \n",
    "    updating_nit.append(result.nit)  "
   ]
  },
  {
   "cell_type": "code",
   "execution_count": 18,
   "metadata": {},
   "outputs": [
    {
     "data": {
      "image/png": "[encoded data removed]",
      "text/plain": [
       "<Figure size 432x288 with 1 Axes>"
      ]
     },
     "metadata": {
      "needs_background": "light"
     },
     "output_type": "display_data"
    }
   ],
   "source": [
    "fig, ax = plt.subplots()\n",
    "\n",
    "ax.plot(updating, updating_nit)\n",
    "ax.grid()\n",
    "\n",
    "\n",
    "ax.set_xlabel('Updating')\n",
    "ax.set_ylabel('Nit')\n",
    "\n",
    "plt.gcf().autofmt_xdate()\n",
    "\n",
    "plt.show()"
   ]
  },
  {
   "cell_type": "markdown",
   "metadata": {},
   "source": [
    "<b><i>Как видно из графика immediate вызывает меньше итераций, чем deferred</i></b>"
   ]
  },
  {
   "cell_type": "markdown",
   "metadata": {},
   "source": [
    "### Дополнительное задание.\n",
    "\n",
    "Найти множество параметров (strategy=..., ..., updating=...), которые требуют минимального количества итераций."
   ]
  },
  {
   "cell_type": "markdown",
   "metadata": {},
   "source": [
    "#### Набор, который приводит к 1 итерации, при этом его вряд ли можно использовать в реальной работе"
   ]
  },
  {
   "cell_type": "code",
   "execution_count": 40,
   "metadata": {},
   "outputs": [
    {
     "data": {
      "text/plain": [
       "     fun: 5.381864187491068\n",
       "     jac: array([-3.55271366e-07, -9.59232699e-06])\n",
       " message: 'Optimization terminated successfully.'\n",
       "    nfev: 46\n",
       "     nit: 1\n",
       " success: True\n",
       "       x: array([-0.98241604, -1.96461685])"
      ]
     },
     "execution_count": 40,
     "metadata": {},
     "output_type": "execute_result"
    }
   ],
   "source": [
    "min_result = differential_evolution(ackley, bounds, seed=42, strategy='best1bin', updating='immediate', recombination=0.8, popsize=1, mutation=0.1, tol=0.4)\n",
    "\n",
    "min_result"
   ]
  }
 ],
 "metadata": {
  "kernelspec": {
   "display_name": "Python 3",
   "language": "python",
   "name": "python3"
  },
  "language_info": {
   "codemirror_mode": {
    "name": "ipython",
    "version": 3
   },
   "file_extension": ".py",
   "mimetype": "text/x-python",
   "name": "python",
   "nbconvert_exporter": "python",
   "pygments_lexer": "ipython3",
   "version": "3.8.5"
  }
 },
 "nbformat": 4,
 "nbformat_minor": 2
}
